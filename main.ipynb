{
 "cells": [
  {
   "cell_type": "code",
   "execution_count": null,
   "id": "f8593550",
   "metadata": {},
   "outputs": [],
   "source": [
    "# 1. Import Libs\n",
    "import pandas as pd\n",
    "import numpy as np\n",
    "import matplotlib.pyplot as plt\n",
    "import seaborn as sns\n",
    "import warnings\n",
    "warnings.filterwarnings('ignore')\n",
    "import joblib\n",
    "import json"
   ]
  },
  {
   "cell_type": "code",
   "execution_count": 6,
   "id": "e3d54500",
   "metadata": {},
   "outputs": [],
   "source": [
    "from sklearn.model_selection import train_test_split, cross_val_score, GridSearchCV\n",
    "from sklearn.preprocessing import StandardScaler, OneHotEncoder, LabelEncoder\n",
    "from sklearn.impute import SimpleImputer\n",
    "from sklearn.pipeline import Pipeline\n",
    "from sklearn.compose import ColumnTransformer\n",
    "from sklearn.ensemble import RandomForestClassifier, GradientBoostingClassifier\n",
    "from sklearn.linear_model import LogisticRegression\n",
    "from sklearn.svm import SVC\n",
    "from sklearn.metrics import (accuracy_score, precision_score, recall_score, \n",
    "                           f1_score, confusion_matrix, classification_report,\n",
    "                           roc_auc_score, roc_curve)\n",
    "from sklearn.feature_selection import SelectKBest, f_classif"
   ]
  },
  {
   "cell_type": "code",
   "execution_count": null,
   "id": "f3306ff7",
   "metadata": {},
   "outputs": [],
   "source": [
    "# Visualization config\n",
    "plt.style.use('ggplot')\n",
    "sns.set_palette(\"husl\")\n",
    "%matplotlib inline"
   ]
  },
  {
   "cell_type": "code",
   "execution_count": null,
   "id": "8c595b16",
   "metadata": {},
   "outputs": [],
   "source": [
    "# 2. Load data\n",
    "try:\n",
    "    train_df = pd.read_csv('train.csv')\n",
    "    test_df = pd.read_csv('test.csv')\n",
    "    print(\"Dados carregados com sucesso!\")\n",
    "except FileNotFoundError:\n",
    "    print(\"Arquivos não encontrados. Verifique os nomes dos arquivos.\")"
   ]
  },
  {
   "cell_type": "code",
   "execution_count": null,
   "metadata": {},
   "outputs": [],
   "source": [
    "# 3. Data analysis\n",
    "plt.figure(figsize=(10, 6))\n",
    "sns.countplot(x='target', data=train_df)\n",
    "plt.title('Distribuição da Variável Target')\n",
    "plt.xlabel('Target')\n",
    "plt.ylabel('Contagem')\n",
    "plt.show()"
   ]
  },
  {
   "cell_type": "code",
   "execution_count": null,
   "id": "bfb96353",
   "metadata": {},
   "outputs": [],
   "source": [
    "numeric_cols = train_df.select_dtypes(include=[np.number]).columns\n",
    "correlation_matrix = train_df[numeric_cols].corr()\n",
    "\n",
    "plt.figure(figsize=(10, 8))\n",
    "sns.heatmap(correlation_matrix, annot=True, cmap='coolwarm', center=0)\n",
    "plt.title('Matriz de Correlação')\n",
    "plt.show()"
   ]
  },
  {
   "cell_type": "code",
   "execution_count": null,
   "id": "c39ba6ee",
   "metadata": {},
   "outputs": [],
   "source": [
    "fig, axes = plt.subplots(2, 2, figsize=(15, 10))\n",
    "numeric_features = [col for col in numeric_cols if col != 'target'][:4]\n",
    "\n",
    "for i, feature in enumerate(numeric_features):\n",
    "    row, col = i // 2, i % 2\n",
    "    sns.boxplot(x='target', y=feature, data=train_df, ax=axes[row, col])\n",
    "    axes[row, col].set_title(f'{feature} vs Target')\n",
    "\n",
    "plt.tight_layout()\n",
    "plt.show()"
   ]
  },
  {
   "cell_type": "code",
   "execution_count": null,
   "id": "68e697da",
   "metadata": {},
   "outputs": [],
   "source": [
    "plt.figure(figsize=(15, 8))\n",
    "for i, col in enumerate(numeric_features, 1):\n",
    "    plt.subplot(2, 2, i)\n",
    "    sns.boxplot(y=train_df[col])\n",
    "    plt.title(f'Boxplot de {col}')\n",
    "\n",
    "plt.tight_layout()\n",
    "plt.show()"
   ]
  },
  {
   "cell_type": "code",
   "execution_count": null,
   "id": "ff1a45db",
   "metadata": {},
   "outputs": [],
   "source": [
    "# 4. Preprocessing\n",
    "X = train_df.drop('target', axis=1)\n",
    "y = train_df['target']\n",
    "\n",
    "numeric_features = X.select_dtypes(include=['int64', 'float64']).columns\n",
    "categorical_features = X.select_dtypes(include=['object']).columns\n",
    "\n",
    "print(f\"Variáveis numéricas: {list(numeric_features)}\")\n",
    "print(f\"Variáveis categóricas: {list(categorical_features)}\")"
   ]
  },
  {
   "cell_type": "code",
   "execution_count": null,
   "metadata": {},
   "outputs": [],
   "source": []
  }
 ],
 "metadata": {
  "kernelspec": {
   "display_name": "Python 3",
   "language": "python",
   "name": "python3"
  },
  "language_info": {
   "codemirror_mode": {
    "name": "ipython",
    "version": 3
   },
   "file_extension": ".py",
   "mimetype": "text/x-python",
   "name": "python",
   "nbconvert_exporter": "python",
   "pygments_lexer": "ipython3",
   "version": "3.11.9"
  }
 },
 "nbformat": 4,
 "nbformat_minor": 5
}
